{
 "cells": [
  {
   "cell_type": "code",
   "execution_count": 354,
   "id": "80fe536b",
   "metadata": {},
   "outputs": [],
   "source": [
    "import csv\n",
    "import numpy as np\n",
    "import requests"
   ]
  },
  {
   "cell_type": "markdown",
   "id": "46fe4501",
   "metadata": {},
   "source": [
    "## Load final table"
   ]
  },
  {
   "cell_type": "code",
   "execution_count": 343,
   "id": "3f95ec6b",
   "metadata": {},
   "outputs": [],
   "source": [
    "with open(\"./group_data_by_users.csv\", \"r\") as csvfile:\n",
    "    reader_variable = csv.reader(csvfile, delimiter=\",\")\n",
    "\n",
    "    table_grouped = [row for row in reader_variable]"
   ]
  },
  {
   "cell_type": "markdown",
   "id": "f9277c0d",
   "metadata": {},
   "source": [
    "## Training of Outlier indentifier Model"
   ]
  },
  {
   "cell_type": "code",
   "execution_count": 389,
   "id": "94797e9f",
   "metadata": {
    "scrolled": true
   },
   "outputs": [],
   "source": [
    "from sklearn.ensemble import IsolationForest\n",
    " \n",
    "table_grouped_array = np.array(table_grouped)\n",
    "user_ids = table_grouped_array[1:,0]\n",
    "X = table_grouped_array[1:,1:].astype(float)\n",
    "\n",
    "\n",
    "X_train, X_test, users_train, users_test = train_test_split(X, user_ids, test_size=0.5, random_state=42)\n",
    "\n",
    "clf = IsolationForest(random_state=0).fit(X_train)\n",
    "\n",
    "predictions = clf.predict(X_test)\n",
    "scores = clf.score_samples(X_test)*-1\n",
    "\n",
    "predictions_classes = []\n",
    "\n",
    "for i in predictions:    \n",
    "    if i == 1:\n",
    "        predictions_classes.append(\"nonfraud\")\n",
    "    else:\n",
    "        predictions_classes.append(\"fraud\")"
   ]
  },
  {
   "cell_type": "markdown",
   "id": "538ee2cd",
   "metadata": {},
   "source": [
    "## Send Scores to database"
   ]
  },
  {
   "cell_type": "code",
   "execution_count": 390,
   "id": "b19ab36e",
   "metadata": {},
   "outputs": [],
   "source": [
    "data_scores = {\"id\":users_test.tolist(),\n",
    "               \"outlier_prob\":scores.tolist(),\n",
    "               \"class_pred\":predictions_classes,\n",
    "               \"project_name\":\"outliers_db\",\n",
    "               \"table_name\":\"fraud\"}\n",
    "\n",
    "\n",
    "url = \"http://0.0.0.0:5000/insert\"\n",
    "\n",
    "response = requests.post(url, json=data_scores)\n",
    "print(response)"
   ]
  }
 ],
 "metadata": {
  "kernelspec": {
   "display_name": "Python 3 (ipykernel)",
   "language": "python",
   "name": "python3"
  },
  "language_info": {
   "codemirror_mode": {
    "name": "ipython",
    "version": 3
   },
   "file_extension": ".py",
   "mimetype": "text/x-python",
   "name": "python",
   "nbconvert_exporter": "python",
   "pygments_lexer": "ipython3",
   "version": "3.9.7"
  }
 },
 "nbformat": 4,
 "nbformat_minor": 5
}
