{
 "cells": [
  {
   "cell_type": "code",
   "execution_count": 1,
   "id": "80fe536b",
   "metadata": {},
   "outputs": [],
   "source": [
    "import csv\n",
    "import numpy as np\n",
    "import requests"
   ]
  },
  {
   "cell_type": "markdown",
   "id": "46fe4501",
   "metadata": {},
   "source": [
    "## Load final table"
   ]
  },
  {
   "cell_type": "code",
   "execution_count": 2,
   "id": "3f95ec6b",
   "metadata": {},
   "outputs": [],
   "source": [
    "with open(\"./group_data_by_users.csv\", \"r\") as csvfile:\n",
    "    reader_variable = csv.reader(csvfile, delimiter=\",\")\n",
    "\n",
    "    table_grouped = [row for row in reader_variable]"
   ]
  },
  {
   "cell_type": "markdown",
   "id": "f9277c0d",
   "metadata": {},
   "source": [
    "## Training of Outlier indentifier Model"
   ]
  },
  {
   "cell_type": "code",
   "execution_count": 3,
   "id": "94797e9f",
   "metadata": {
    "scrolled": true
   },
   "outputs": [],
   "source": [
    "from sklearn.ensemble import IsolationForest\n",
    "from sklearn.model_selection import train_test_split\n",
    " \n",
    "table_grouped_array = np.array(table_grouped)\n",
    "user_ids = table_grouped_array[1:,0]\n",
    "X = table_grouped_array[1:,1:].astype(float)\n",
    "\n",
    "\n",
    "X_train, X_test, users_train, users_test = train_test_split(X, user_ids, test_size=0.5, random_state=42)\n",
    "\n",
    "clf = IsolationForest(random_state=0).fit(X_train)\n",
    "\n",
    "predictions = clf.predict(X_test)\n",
    "scores = clf.score_samples(X_test)*-1\n",
    "\n",
    "predictions_classes = []\n",
    "\n",
    "for i in predictions:    \n",
    "    if i == 1:\n",
    "        predictions_classes.append(\"nonfraud\")\n",
    "    else:\n",
    "        predictions_classes.append(\"fraud\")"
   ]
  },
  {
   "cell_type": "markdown",
   "id": "538ee2cd",
   "metadata": {},
   "source": [
    "## Send Scores to database"
   ]
  },
  {
   "cell_type": "code",
   "execution_count": 4,
   "id": "b19ab36e",
   "metadata": {},
   "outputs": [
    {
     "name": "stdout",
     "output_type": "stream",
     "text": [
      "<Response [200]>\n"
     ]
    }
   ],
   "source": [
    "data_scores = {\"id\":users_test.tolist(),\n",
    "               \"outlier_prob\":scores.tolist(),\n",
    "               \"class_pred\":predictions_classes,\n",
    "               \"project_name\":\"raizen_gasoline\",\n",
    "               \"table_name\":\"fraud\"}\n",
    "\n",
    "\n",
    "url = \"http://0.0.0.0:5000/insert\"\n",
    "\n",
    "response = requests.post(url, json=data_scores)\n",
    "print(response)"
   ]
  },
  {
   "cell_type": "markdown",
   "id": "88e39428",
   "metadata": {},
   "source": [
    "## Exploratory Analysis "
   ]
  },
  {
   "cell_type": "code",
   "execution_count": 27,
   "id": "ccaf23a6",
   "metadata": {},
   "outputs": [
    {
     "data": {
      "text/html": [
       "<div>\n",
       "<style scoped>\n",
       "    .dataframe tbody tr th:only-of-type {\n",
       "        vertical-align: middle;\n",
       "    }\n",
       "\n",
       "    .dataframe tbody tr th {\n",
       "        vertical-align: top;\n",
       "    }\n",
       "\n",
       "    .dataframe thead th {\n",
       "        text-align: right;\n",
       "    }\n",
       "</style>\n",
       "<table border=\"1\" class=\"dataframe\">\n",
       "  <thead>\n",
       "    <tr style=\"text-align: right;\">\n",
       "      <th></th>\n",
       "      <th>id</th>\n",
       "      <th>outlier_prob</th>\n",
       "      <th>class_pred</th>\n",
       "      <th>total_liters</th>\n",
       "      <th>total_amount_paid</th>\n",
       "      <th>is_premium</th>\n",
       "    </tr>\n",
       "  </thead>\n",
       "  <tbody>\n",
       "    <tr>\n",
       "      <th>0</th>\n",
       "      <td>6625</td>\n",
       "      <td>0.388297</td>\n",
       "      <td>nonfraud</td>\n",
       "      <td>553.0</td>\n",
       "      <td>42.854766</td>\n",
       "      <td>0.0</td>\n",
       "    </tr>\n",
       "    <tr>\n",
       "      <th>1</th>\n",
       "      <td>5213</td>\n",
       "      <td>0.400981</td>\n",
       "      <td>nonfraud</td>\n",
       "      <td>531.0</td>\n",
       "      <td>41.226099</td>\n",
       "      <td>0.0</td>\n",
       "    </tr>\n",
       "    <tr>\n",
       "      <th>2</th>\n",
       "      <td>2556</td>\n",
       "      <td>0.416202</td>\n",
       "      <td>nonfraud</td>\n",
       "      <td>645.0</td>\n",
       "      <td>63.169030</td>\n",
       "      <td>0.0</td>\n",
       "    </tr>\n",
       "    <tr>\n",
       "      <th>3</th>\n",
       "      <td>5266</td>\n",
       "      <td>0.664895</td>\n",
       "      <td>fraud</td>\n",
       "      <td>1050.0</td>\n",
       "      <td>43.202179</td>\n",
       "      <td>1.0</td>\n",
       "    </tr>\n",
       "    <tr>\n",
       "      <th>4</th>\n",
       "      <td>5067</td>\n",
       "      <td>0.421722</td>\n",
       "      <td>nonfraud</td>\n",
       "      <td>776.0</td>\n",
       "      <td>71.395915</td>\n",
       "      <td>0.0</td>\n",
       "    </tr>\n",
       "  </tbody>\n",
       "</table>\n",
       "</div>"
      ],
      "text/plain": [
       "     id  outlier_prob class_pred  total_liters  total_amount_paid  is_premium\n",
       "0  6625      0.388297   nonfraud         553.0          42.854766         0.0\n",
       "1  5213      0.400981   nonfraud         531.0          41.226099         0.0\n",
       "2  2556      0.416202   nonfraud         645.0          63.169030         0.0\n",
       "3  5266      0.664895      fraud        1050.0          43.202179         1.0\n",
       "4  5067      0.421722   nonfraud         776.0          71.395915         0.0"
      ]
     },
     "execution_count": 27,
     "metadata": {},
     "output_type": "execute_result"
    }
   ],
   "source": [
    "import pandas as pd\n",
    "import seaborn as sns\n",
    "import matplotlib.pyplot as plt\n",
    "\n",
    "\n",
    "df_analysis = pd.DataFrame({\"id\":users_test.tolist(),\n",
    "                \"outlier_prob\":scores.tolist(),\n",
    "                \"class_pred\":predictions_classes,\n",
    "                table_grouped_array[0,1]:X_test[:,0].astype(float),\n",
    "                table_grouped_array[0,2]:X_test[:,1].astype(float),\n",
    "                table_grouped_array[0,3]:X_test[:,2].astype(float)})\n",
    "\n",
    "df_analysis.head()"
   ]
  },
  {
   "cell_type": "markdown",
   "id": "1060a15e",
   "metadata": {},
   "source": [
    "## Plot Parameters"
   ]
  },
  {
   "cell_type": "code",
   "execution_count": 31,
   "id": "a9c50d76",
   "metadata": {},
   "outputs": [],
   "source": [
    "colors = [\"red\",\"yellow\",\"black\",\"green\",\"blue\"]\n",
    "n_bins = 100"
   ]
  },
  {
   "cell_type": "markdown",
   "id": "f269a11e",
   "metadata": {},
   "source": [
    "## Distribution of predict variables"
   ]
  },
  {
   "cell_type": "code",
   "execution_count": 44,
   "id": "7880c833",
   "metadata": {},
   "outputs": [
    {
     "data": {
      "image/png": "[encoded data removed]",
      "text/plain": [
       "<Figure size 1080x1080 with 3 Axes>"
      ]
     },
     "metadata": {
      "needs_background": "light"
     },
     "output_type": "display_data"
    }
   ],
   "source": [
    "f, axes = plt.subplots(3, 1,figsize=(15,15))\n",
    "\n",
    "sns.distplot(df_analysis[df_analysis['class_pred']=='nonfraud']['total_liters'].values, bins=n_bins, kde=False,label='Nonfraud',color=colors[4],ax=axes[0]).set_title(\"total_liters\")\n",
    "sns.distplot(df_analysis[df_analysis['class_pred']=='fraud']['total_liters'].values, bins=n_bins, kde=False,label='Fraud',color=colors[3],ax=axes[0]).set_title(\"total_liters\")\n",
    "\n",
    "\n",
    "\n",
    "sns.distplot(df_analysis[df_analysis['class_pred']=='nonfraud']['total_amount_paid'].values, bins=n_bins, kde=False,label='Nonfraud',color=colors[4],ax=axes[1]).set_title(\"total_amount_paid\")\n",
    "sns.distplot(df_analysis[df_analysis['class_pred']=='fraud']['total_amount_paid'].values, bins=n_bins, kde=False,label='Fraud',color=colors[3],ax=axes[1]).set_title(\"total_amount_paid\")\n",
    "\n",
    "\n",
    "sns.distplot(df_analysis[df_analysis['class_pred']=='nonfraud']['is_premium'].values, bins=n_bins, kde=False,label='Nonfraud',color=colors[4],ax=axes[2]).set_title(\"is_premium\")\n",
    "sns.distplot(df_analysis[df_analysis['class_pred']=='fraud']['is_premium'].values, bins=n_bins, kde=False,label='Fraud',color=colors[3],ax=axes[2]).set_title(\"is_premium\")\n",
    "\n",
    "\n",
    "lines, labels = f.axes[-1].get_legend_handles_labels()\n",
    "    \n",
    "f.legend(lines, labels, loc = 'right')\n",
    "\n",
    "plt.show()"
   ]
  },
  {
   "cell_type": "markdown",
   "id": "6285ab1a",
   "metadata": {},
   "source": [
    "## Boxplot of total_liters and total_amount_paid"
   ]
  },
  {
   "cell_type": "code",
   "execution_count": 61,
   "id": "2eb74b86",
   "metadata": {},
   "outputs": [
    {
     "data": {
      "image/png": "[encoded data removed]",
      "text/plain": [
       "<Figure size 1080x1080 with 2 Axes>"
      ]
     },
     "metadata": {
      "needs_background": "light"
     },
     "output_type": "display_data"
    }
   ],
   "source": [
    "f, axes = plt.subplots(2, 1,figsize=(15,15))\n",
    "\n",
    "ax = sns.boxplot(x=\"class_pred\", y=\"total_liters\", data=df_analysis,ax=axes[0],order=['nonfraud', 'fraud']).set_title(\"total_liters\")\n",
    "\n",
    "ax = sns.boxplot(x=\"class_pred\", y=\"total_amount_paid\", data=df_analysis,ax=axes[1],order=['nonfraud', 'fraud']).set_title(\"total_amount_paid\")\n"
   ]
  },
  {
   "cell_type": "markdown",
   "id": "b30e6a51",
   "metadata": {},
   "source": [
    "## Observations\n",
    "\n",
    "- the median, maximum and minimum of the variables total_amout_paid and total_liters for customers predicted as fraud are quite discrepant when compared to customers predicted as not fraud, as we can see in the boxplots.\n",
    "\n",
    "\n",
    "\n",
    "- The distributions of variables total liters, total amount of customers predicted as non-fraudulent have the shape of a normal distribution, whereas customers predicted as fraudulent have distributions well distributed in small and high values.\n",
    "\n",
    "\n",
    "- the model is considering all premiuns as fraud, as we can see in the histogram above, but considering that the model identifies outliers and premium customers are exclusive and have a specific behavior, this is expected to happen because it is quite different from most other customers. A possible treatment for version 2 of this model is to create a segmentation for these premium customers."
   ]
  },
  {
   "cell_type": "code",
   "execution_count": null,
   "id": "f00afad0",
   "metadata": {},
   "outputs": [],
   "source": []
  }
 ],
 "metadata": {
  "kernelspec": {
   "display_name": "Python 3 (ipykernel)",
   "language": "python",
   "name": "python3"
  },
  "language_info": {
   "codemirror_mode": {
    "name": "ipython",
    "version": 3
   },
   "file_extension": ".py",
   "mimetype": "text/x-python",
   "name": "python",
   "nbconvert_exporter": "python",
   "pygments_lexer": "ipython3",
   "version": "3.9.7"
  }
 },
 "nbformat": 4,
 "nbformat_minor": 5
}
